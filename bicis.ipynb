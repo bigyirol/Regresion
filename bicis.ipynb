{
  "metadata": {
    "kernelspec": {
      "name": "python",
      "display_name": "Python (Pyodide)",
      "language": "python"
    },
    "language_info": {
      "codemirror_mode": {
        "name": "python",
        "version": 3
      },
      "file_extension": ".py",
      "mimetype": "text/x-python",
      "name": "python",
      "nbconvert_exporter": "python",
      "pygments_lexer": "ipython3",
      "version": "3.8"
    }
  },
  "nbformat_minor": 4,
  "nbformat": 4,
  "cells": [
    {
      "cell_type": "markdown",
      "source": "## Paso 1: Importar las bibliotecas necesarias",
      "metadata": {}
    },
    {
      "cell_type": "code",
      "source": "import pandas as pd",
      "metadata": {
        "trusted": true
      },
      "outputs": [],
      "execution_count": 1
    },
    {
      "cell_type": "markdown",
      "source": "## Paso 2: Cargar el archivo CSV",
      "metadata": {}
    },
    {
      "cell_type": "code",
      "source": "# Ruta del archivo CSV\nruta_csv = 'AccidentesBicicletas_2024.csv'\n\n# Cargar el archivo CSV especificando el delimitador\ndf = pd.read_csv(ruta_csv, sep=';')\n\n# Ver los primeros registros del dataframe para verificar la carga\ndf.head()\n",
      "metadata": {
        "trusted": true
      },
      "outputs": [
        {
          "execution_count": 2,
          "output_type": "execute_result",
          "data": {
            "text/plain": "  num_expediente       fecha      hora  \\\n0    2024S000027  01/01/2024  16:30:00   \n1    2024S000058  02/01/2024   9:45:00   \n2    2024S000081  02/01/2024  19:30:00   \n3    2024S000081  02/01/2024  19:30:00   \n4    2024S000108  03/01/2024   8:30:00   \n\n                                     localizacion numero  cod_distrito  \\\n0  CALL. ALEJANDRO MORAN / CALL. GENERAL RICARDOS      2            11   \n1              GTA. LOZARES / AVDA. REAL DE PINTO      0            17   \n2                             CALL. HORTALEZA, 96     96             1   \n3                             CALL. HORTALEZA, 96     96             1   \n4                        CALL. BRAVO MURILLO, 154    154             6   \n\n      distrito           tipo_accidente estado_meteorológico  \\\n0  CARABANCHEL  Colisión fronto-lateral            Despejado   \n1   VILLAVERDE                    Caída            Despejado   \n2       CENTRO      Atropello a persona              Nublado   \n3       CENTRO      Atropello a persona              Nublado   \n4       TETUÁN                  Alcance       LLuvia intensa   \n\n                       tipo_vehiculo tipo_persona       rango_edad    sexo  \\\n0  Bicicleta EPAC (pedaleo asistido)    Conductor  De 25 a 29 años  Hombre   \n1                          Bicicleta    Conductor  De 70 a 74 años  Hombre   \n2  Bicicleta EPAC (pedaleo asistido)    Conductor  De 30 a 34 años  Hombre   \n3  Bicicleta EPAC (pedaleo asistido)       Peatón  De 65 a 69 años  Hombre   \n4  Bicicleta EPAC (pedaleo asistido)    Conductor  De 35 a 39 años  Hombre   \n\n   cod_lesividad                                          lesividad  \\\n0            7.0  Asistencia sanitaria sólo en el lugar del acci...   \n1            2.0                Ingreso inferior o igual a 24 horas   \n2           14.0                           Sin asistencia sanitaria   \n3            2.0                Ingreso inferior o igual a 24 horas   \n4            7.0  Asistencia sanitaria sólo en el lugar del acci...   \n\n  coordenada_x_utm coordenada_y_utm positiva_alcohol  positiva_droga  \n0       437731,537      4470986,332                N             NaN  \n1       439897,376       4465732,64                N             NaN  \n2       440785,232      4475122,284                N             NaN  \n3       440785,232      4475122,284                N             NaN  \n4       440364,283      4478099,265                N             NaN  ",
            "text/html": "<div>\n<style scoped>\n    .dataframe tbody tr th:only-of-type {\n        vertical-align: middle;\n    }\n\n    .dataframe tbody tr th {\n        vertical-align: top;\n    }\n\n    .dataframe thead th {\n        text-align: right;\n    }\n</style>\n<table border=\"1\" class=\"dataframe\">\n  <thead>\n    <tr style=\"text-align: right;\">\n      <th></th>\n      <th>num_expediente</th>\n      <th>fecha</th>\n      <th>hora</th>\n      <th>localizacion</th>\n      <th>numero</th>\n      <th>cod_distrito</th>\n      <th>distrito</th>\n      <th>tipo_accidente</th>\n      <th>estado_meteorológico</th>\n      <th>tipo_vehiculo</th>\n      <th>tipo_persona</th>\n      <th>rango_edad</th>\n      <th>sexo</th>\n      <th>cod_lesividad</th>\n      <th>lesividad</th>\n      <th>coordenada_x_utm</th>\n      <th>coordenada_y_utm</th>\n      <th>positiva_alcohol</th>\n      <th>positiva_droga</th>\n    </tr>\n  </thead>\n  <tbody>\n    <tr>\n      <th>0</th>\n      <td>2024S000027</td>\n      <td>01/01/2024</td>\n      <td>16:30:00</td>\n      <td>CALL. ALEJANDRO MORAN / CALL. GENERAL RICARDOS</td>\n      <td>2</td>\n      <td>11</td>\n      <td>CARABANCHEL</td>\n      <td>Colisión fronto-lateral</td>\n      <td>Despejado</td>\n      <td>Bicicleta EPAC (pedaleo asistido)</td>\n      <td>Conductor</td>\n      <td>De 25 a 29 años</td>\n      <td>Hombre</td>\n      <td>7.0</td>\n      <td>Asistencia sanitaria sólo en el lugar del acci...</td>\n      <td>437731,537</td>\n      <td>4470986,332</td>\n      <td>N</td>\n      <td>NaN</td>\n    </tr>\n    <tr>\n      <th>1</th>\n      <td>2024S000058</td>\n      <td>02/01/2024</td>\n      <td>9:45:00</td>\n      <td>GTA. LOZARES / AVDA. REAL DE PINTO</td>\n      <td>0</td>\n      <td>17</td>\n      <td>VILLAVERDE</td>\n      <td>Caída</td>\n      <td>Despejado</td>\n      <td>Bicicleta</td>\n      <td>Conductor</td>\n      <td>De 70 a 74 años</td>\n      <td>Hombre</td>\n      <td>2.0</td>\n      <td>Ingreso inferior o igual a 24 horas</td>\n      <td>439897,376</td>\n      <td>4465732,64</td>\n      <td>N</td>\n      <td>NaN</td>\n    </tr>\n    <tr>\n      <th>2</th>\n      <td>2024S000081</td>\n      <td>02/01/2024</td>\n      <td>19:30:00</td>\n      <td>CALL. HORTALEZA, 96</td>\n      <td>96</td>\n      <td>1</td>\n      <td>CENTRO</td>\n      <td>Atropello a persona</td>\n      <td>Nublado</td>\n      <td>Bicicleta EPAC (pedaleo asistido)</td>\n      <td>Conductor</td>\n      <td>De 30 a 34 años</td>\n      <td>Hombre</td>\n      <td>14.0</td>\n      <td>Sin asistencia sanitaria</td>\n      <td>440785,232</td>\n      <td>4475122,284</td>\n      <td>N</td>\n      <td>NaN</td>\n    </tr>\n    <tr>\n      <th>3</th>\n      <td>2024S000081</td>\n      <td>02/01/2024</td>\n      <td>19:30:00</td>\n      <td>CALL. HORTALEZA, 96</td>\n      <td>96</td>\n      <td>1</td>\n      <td>CENTRO</td>\n      <td>Atropello a persona</td>\n      <td>Nublado</td>\n      <td>Bicicleta EPAC (pedaleo asistido)</td>\n      <td>Peatón</td>\n      <td>De 65 a 69 años</td>\n      <td>Hombre</td>\n      <td>2.0</td>\n      <td>Ingreso inferior o igual a 24 horas</td>\n      <td>440785,232</td>\n      <td>4475122,284</td>\n      <td>N</td>\n      <td>NaN</td>\n    </tr>\n    <tr>\n      <th>4</th>\n      <td>2024S000108</td>\n      <td>03/01/2024</td>\n      <td>8:30:00</td>\n      <td>CALL. BRAVO MURILLO, 154</td>\n      <td>154</td>\n      <td>6</td>\n      <td>TETUÁN</td>\n      <td>Alcance</td>\n      <td>LLuvia intensa</td>\n      <td>Bicicleta EPAC (pedaleo asistido)</td>\n      <td>Conductor</td>\n      <td>De 35 a 39 años</td>\n      <td>Hombre</td>\n      <td>7.0</td>\n      <td>Asistencia sanitaria sólo en el lugar del acci...</td>\n      <td>440364,283</td>\n      <td>4478099,265</td>\n      <td>N</td>\n      <td>NaN</td>\n    </tr>\n  </tbody>\n</table>\n</div>"
          },
          "metadata": {}
        }
      ],
      "execution_count": 2
    },
    {
      "cell_type": "markdown",
      "source": "## Filtrar los datos para obtener solo los accidentes que implican bicicletas",
      "metadata": {}
    },
    {
      "cell_type": "code",
      "source": "\n# Ajusta el nombre de la columna `tipo_vehiculo` según tu archivo CSV\naccidentes_bicicletas = df[df['tipo_vehiculo'] == 'Bicicleta']\n\n# Verificar los primeros registros del dataframe filtrado\naccidentes_bicicletas.head()\n",
      "metadata": {
        "trusted": true
      },
      "outputs": [
        {
          "execution_count": 3,
          "output_type": "execute_result",
          "data": {
            "text/plain": "   num_expediente       fecha      hora  \\\n1     2024S000058  02/01/2024   9:45:00   \n5     2024S000168  03/01/2024  11:30:00   \n6     2024S001478  03/01/2024   8:45:00   \n7     2024S000274  04/01/2024  20:30:00   \n10    2024S000389  06/01/2024  13:08:00   \n\n                                         localizacion numero  cod_distrito  \\\n1                  GTA. LOZARES / AVDA. REAL DE PINTO      0            17   \n5                              PASEO. EXTREMADURA, 21     21            10   \n6                    CALL. MIRASIERRA / CALL. CALESAS      7            12   \n7   CALL. NUESTRA SEÑORA DE VALVERDE / CALL. ISLA ...     37             8   \n10       CALL. ALEJANDRO MORAN / CALL. JUAN FRANCISCO     11            11   \n\n               distrito           tipo_accidente estado_meteorológico  \\\n1            VILLAVERDE                    Caída            Despejado   \n5                LATINA                    Caída         Lluvia débil   \n6                 USERA                    Caída         Lluvia débil   \n7   FUENCARRAL-EL PARDO  Colisión fronto-lateral       LLuvia intensa   \n10          CARABANCHEL  Colisión fronto-lateral            Despejado   \n\n   tipo_vehiculo tipo_persona       rango_edad    sexo  cod_lesividad  \\\n1      Bicicleta    Conductor  De 70 a 74 años  Hombre            2.0   \n5      Bicicleta    Conductor  De 25 a 29 años   Mujer            7.0   \n6      Bicicleta    Conductor  De 60 a 64 años  Hombre            3.0   \n7      Bicicleta    Conductor  De 30 a 34 años  Hombre            2.0   \n10     Bicicleta    Conductor  De 21 a 24 años  Hombre            7.0   \n\n                                            lesividad coordenada_x_utm  \\\n1                 Ingreso inferior o igual a 24 horas       439897,376   \n5   Asistencia sanitaria sólo en el lugar del acci...       438247,325   \n6                         Ingreso superior a 24 horas       440100,632   \n7                 Ingreso inferior o igual a 24 horas       441782,639   \n10  Asistencia sanitaria sólo en el lugar del acci...        437783,88   \n\n   coordenada_y_utm positiva_alcohol  positiva_droga  \n1        4465732,64                N             NaN  \n5        4473923,94                N             NaN  \n6       4471248,706                N             NaN  \n7       4482707,325                N             NaN  \n10      4470932,349                N             NaN  ",
            "text/html": "<div>\n<style scoped>\n    .dataframe tbody tr th:only-of-type {\n        vertical-align: middle;\n    }\n\n    .dataframe tbody tr th {\n        vertical-align: top;\n    }\n\n    .dataframe thead th {\n        text-align: right;\n    }\n</style>\n<table border=\"1\" class=\"dataframe\">\n  <thead>\n    <tr style=\"text-align: right;\">\n      <th></th>\n      <th>num_expediente</th>\n      <th>fecha</th>\n      <th>hora</th>\n      <th>localizacion</th>\n      <th>numero</th>\n      <th>cod_distrito</th>\n      <th>distrito</th>\n      <th>tipo_accidente</th>\n      <th>estado_meteorológico</th>\n      <th>tipo_vehiculo</th>\n      <th>tipo_persona</th>\n      <th>rango_edad</th>\n      <th>sexo</th>\n      <th>cod_lesividad</th>\n      <th>lesividad</th>\n      <th>coordenada_x_utm</th>\n      <th>coordenada_y_utm</th>\n      <th>positiva_alcohol</th>\n      <th>positiva_droga</th>\n    </tr>\n  </thead>\n  <tbody>\n    <tr>\n      <th>1</th>\n      <td>2024S000058</td>\n      <td>02/01/2024</td>\n      <td>9:45:00</td>\n      <td>GTA. LOZARES / AVDA. REAL DE PINTO</td>\n      <td>0</td>\n      <td>17</td>\n      <td>VILLAVERDE</td>\n      <td>Caída</td>\n      <td>Despejado</td>\n      <td>Bicicleta</td>\n      <td>Conductor</td>\n      <td>De 70 a 74 años</td>\n      <td>Hombre</td>\n      <td>2.0</td>\n      <td>Ingreso inferior o igual a 24 horas</td>\n      <td>439897,376</td>\n      <td>4465732,64</td>\n      <td>N</td>\n      <td>NaN</td>\n    </tr>\n    <tr>\n      <th>5</th>\n      <td>2024S000168</td>\n      <td>03/01/2024</td>\n      <td>11:30:00</td>\n      <td>PASEO. EXTREMADURA, 21</td>\n      <td>21</td>\n      <td>10</td>\n      <td>LATINA</td>\n      <td>Caída</td>\n      <td>Lluvia débil</td>\n      <td>Bicicleta</td>\n      <td>Conductor</td>\n      <td>De 25 a 29 años</td>\n      <td>Mujer</td>\n      <td>7.0</td>\n      <td>Asistencia sanitaria sólo en el lugar del acci...</td>\n      <td>438247,325</td>\n      <td>4473923,94</td>\n      <td>N</td>\n      <td>NaN</td>\n    </tr>\n    <tr>\n      <th>6</th>\n      <td>2024S001478</td>\n      <td>03/01/2024</td>\n      <td>8:45:00</td>\n      <td>CALL. MIRASIERRA / CALL. CALESAS</td>\n      <td>7</td>\n      <td>12</td>\n      <td>USERA</td>\n      <td>Caída</td>\n      <td>Lluvia débil</td>\n      <td>Bicicleta</td>\n      <td>Conductor</td>\n      <td>De 60 a 64 años</td>\n      <td>Hombre</td>\n      <td>3.0</td>\n      <td>Ingreso superior a 24 horas</td>\n      <td>440100,632</td>\n      <td>4471248,706</td>\n      <td>N</td>\n      <td>NaN</td>\n    </tr>\n    <tr>\n      <th>7</th>\n      <td>2024S000274</td>\n      <td>04/01/2024</td>\n      <td>20:30:00</td>\n      <td>CALL. NUESTRA SEÑORA DE VALVERDE / CALL. ISLA ...</td>\n      <td>37</td>\n      <td>8</td>\n      <td>FUENCARRAL-EL PARDO</td>\n      <td>Colisión fronto-lateral</td>\n      <td>LLuvia intensa</td>\n      <td>Bicicleta</td>\n      <td>Conductor</td>\n      <td>De 30 a 34 años</td>\n      <td>Hombre</td>\n      <td>2.0</td>\n      <td>Ingreso inferior o igual a 24 horas</td>\n      <td>441782,639</td>\n      <td>4482707,325</td>\n      <td>N</td>\n      <td>NaN</td>\n    </tr>\n    <tr>\n      <th>10</th>\n      <td>2024S000389</td>\n      <td>06/01/2024</td>\n      <td>13:08:00</td>\n      <td>CALL. ALEJANDRO MORAN / CALL. JUAN FRANCISCO</td>\n      <td>11</td>\n      <td>11</td>\n      <td>CARABANCHEL</td>\n      <td>Colisión fronto-lateral</td>\n      <td>Despejado</td>\n      <td>Bicicleta</td>\n      <td>Conductor</td>\n      <td>De 21 a 24 años</td>\n      <td>Hombre</td>\n      <td>7.0</td>\n      <td>Asistencia sanitaria sólo en el lugar del acci...</td>\n      <td>437783,88</td>\n      <td>4470932,349</td>\n      <td>N</td>\n      <td>NaN</td>\n    </tr>\n  </tbody>\n</table>\n</div>"
          },
          "metadata": {}
        }
      ],
      "execution_count": 3
    },
    {
      "cell_type": "markdown",
      "source": "## Filtrar los accidentes de bicicletas que tienen resultado positivo de alcohol",
      "metadata": {}
    },
    {
      "cell_type": "code",
      "source": "\n# Ajusta el nombre de la columna `positiva_alcohol` y los valores `Sí` y `No` según tu archivo CSV\naccidentes_bicicletas_con_alcohol = accidentes_bicicletas[accidentes_bicicletas['positiva_alcohol'] == 'S']\n\n# Calcular el total de accidentes de bicicletas\ntotal_accidentes_bicicletas = len(accidentes_bicicletas)\n\n# Calcular el total de accidentes de bicicletas con resultado positivo de alcohol\ntotal_accidentes_bicicletas_con_alcohol = len(accidentes_bicicletas_con_alcohol)\n\n# Calcular el porcentaje de accidentes con resultado positivo de alcohol\nif total_accidentes_bicicletas > 0:\n    porcentaje_con_alcohol = (total_accidentes_bicicletas_con_alcohol / total_accidentes_bicicletas) * 100\n    print(f'El porcentaje de accidentes con bicicletas que tenían positivo de alcohol es: {porcentaje_con_alcohol:.2f}%')\nelse:\n    print('No hay registros de accidentes con bicicletas en los datos.')\n",
      "metadata": {
        "trusted": true
      },
      "outputs": [
        {
          "name": "stdout",
          "text": "El porcentaje de accidentes con bicicletas que tenían positivo de alcohol es: 2.45%\n",
          "output_type": "stream"
        }
      ],
      "execution_count": 4
    },
    {
      "cell_type": "code",
      "source": "",
      "metadata": {
        "trusted": true
      },
      "outputs": [],
      "execution_count": null
    }
  ]
}