{
  "metadata": {
    "kernelspec": {
      "name": "python",
      "display_name": "Python (Pyodide)",
      "language": "python"
    },
    "language_info": {
      "codemirror_mode": {
        "name": "python",
        "version": 3
      },
      "file_extension": ".py",
      "mimetype": "text/x-python",
      "name": "python",
      "nbconvert_exporter": "python",
      "pygments_lexer": "ipython3",
      "version": "3.8"
    }
  },
  "nbformat_minor": 4,
  "nbformat": 4,
  "cells": [
    {
      "cell_type": "code",
      "source": "# Import Dataset from sklearn\nfrom sklearn.datasets import load_iris\nimport pandas as pd\n# Load Iris Data\niris = load_iris()\n# Creating pd DataFrames\niris_df = pd.DataFrame(data= iris.data, columns= iris.feature_names)\ntarget_df = pd.DataFrame(data= iris.target, columns= ['species'])\ndef converter(specie):\n    if specie == 0:\n        return 'setosa'\n    elif specie == 1:\n        return 'versicolor'\n    else:\n        return 'virginica'\ntarget_df['species'] = target_df['species'].apply(converter)\n# Concatenate the DataFrames\niris_df = pd.concat([iris_df, target_df], axis= 1)",
      "metadata": {
        "trusted": true
      },
      "outputs": [],
      "execution_count": null
    },
    {
      "cell_type": "code",
      "source": "iris_df.describe()",
      "metadata": {
        "trusted": true
      },
      "outputs": [],
      "execution_count": null
    },
    {
      "cell_type": "code",
      "source": "iris_df.info()",
      "metadata": {
        "trusted": true
      },
      "outputs": [],
      "execution_count": null
    },
    {
      "cell_type": "code",
      "source": "%pip install seaborn",
      "metadata": {
        "trusted": true
      },
      "outputs": [],
      "execution_count": null
    },
    {
      "cell_type": "code",
      "source": "import seaborn as sns\nsns.pairplot(iris_df, hue= 'species')",
      "metadata": {
        "trusted": true
      },
      "outputs": [],
      "execution_count": null
    },
    {
      "cell_type": "code",
      "source": "# Converting Objects to Numerical dtype\niris_df.drop('species', axis= 1, inplace= True)\ntarget_df = pd.DataFrame(columns= ['species'], data= iris.target)\niris_df = pd.concat([iris_df, target_df], axis= 1)\n# Variables\nX= iris_df.drop(labels= 'sepal length (cm)', axis= 1)\ny= iris_df['sepal length (cm)']\n\nfrom sklearn.model_selection import train_test_split\n# Splitting the Dataset \nX_train, X_test, y_train, y_test = train_test_split(X, y, test_size= 0.33, random_state= 101)\n\nfrom sklearn.linear_model import LinearRegression\n# Instantiating LinearRegression() Model\nlr = LinearRegression()\n\n# Training/Fitting the Model\nlr.fit(X_train, y_train)\n\n# Making Predictions\nlr.predict(X_test)\npred = lr.predict(X_test)\n\nfrom sklearn.metrics import mean_squared_error, r2_score\n# Evaluating Model's Performance\nprint('Mean Absolute Error:', mean_absolute_error(y_test, pred))\nprint('Mean Squared Error:', mean_squared_error(y_test, pred))\nprint('Mean Root Squared Error:', np.sqrt(mean_squared_error(y_test, pred)))",
      "metadata": {
        "trusted": true
      },
      "outputs": [],
      "execution_count": null
    },
    {
      "cell_type": "code",
      "source": "iris_df.loc[6]",
      "metadata": {
        "trusted": true
      },
      "outputs": [],
      "execution_count": null
    },
    {
      "cell_type": "code",
      "source": "pred = lr.predict(X_test)\nprint('Predicted Sepal Length (cm):', pred[0])\nprint('Actual Sepal Length (cm):', 4.6)",
      "metadata": {
        "trusted": true
      },
      "outputs": [],
      "execution_count": null
    },
    {
      "cell_type": "code",
      "source": "",
      "metadata": {
        "trusted": true
      },
      "outputs": [],
      "execution_count": null
    }
  ]
}